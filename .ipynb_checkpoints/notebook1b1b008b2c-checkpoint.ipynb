{
 "cells": [
  {
   "cell_type": "markdown",
   "metadata": {},
   "source": [
    "# Play with fire! (smoke detection)"
   ]
  },
  {
   "cell_type": "markdown",
   "metadata": {},
   "source": [
    "## 1. Get data"
   ]
  },
  {
   "cell_type": "code",
   "execution_count": null,
   "metadata": {},
   "outputs": [],
   "source": [
    "! kaggle datasets download -d ahemateja19bec1025/wildfiresmokedataset"
   ]
  },
  {
   "cell_type": "markdown",
   "metadata": {},
   "source": [
    "## 2. Data preparation"
   ]
  },
  {
   "cell_type": "code",
   "execution_count": 1,
   "metadata": {
    "_cell_guid": "b1076dfc-b9ad-4769-8c92-a6c4dae69d19",
    "_uuid": "8f2839f25d086af736a60e9eeb907d3b93b6e0e5",
    "execution": {
     "iopub.execute_input": "2022-02-04T17:39:26.664341Z",
     "iopub.status.busy": "2022-02-04T17:39:26.663401Z",
     "iopub.status.idle": "2022-02-04T17:39:26.930741Z",
     "shell.execute_reply": "2022-02-04T17:39:26.926817Z",
     "shell.execute_reply.started": "2022-02-04T17:39:26.664159Z"
    }
   },
   "outputs": [],
   "source": [
    "# This Python 3 environment comes with many helpful analytics libraries installed\n",
    "# It is defined by the kaggle/python Docker image: https://github.com/kaggle/docker-python\n",
    "# For example, here's several helpful packages to load\n",
    "\n",
    "import numpy as np # linear algebra\n",
    "import pandas as pd # data processing, CSV file I/O (e.g. pd.read_csv)\n",
    "\n",
    "# Input data files are available in the read-only \"../input/\" directory\n",
    "# For example, running this (by clicking run or pressing Shift+Enter) will list all files under the input directory\n",
    "\n",
    "import os\n",
    "for dirname, _, filenames in os.walk('/kaggle/input'):\n",
    "    for filename in filenames:\n",
    "        print(os.path.join(dirname, filename))\n",
    "\n",
    "# You can write up to 20GB to the current directory (/kaggle/working/) that gets preserved as output when you create a version using \"Save & Run All\" \n",
    "# You can also write temporary files to /kaggle/temp/, but they won't be saved outside of the current session"
   ]
  },
  {
   "cell_type": "code",
   "execution_count": 2,
   "metadata": {
    "execution": {
     "iopub.execute_input": "2022-02-04T17:39:32.427514Z",
     "iopub.status.busy": "2022-02-04T17:39:32.427258Z",
     "iopub.status.idle": "2022-02-04T17:39:33.381230Z",
     "shell.execute_reply": "2022-02-04T17:39:33.380213Z",
     "shell.execute_reply.started": "2022-02-04T17:39:32.427486Z"
    }
   },
   "outputs": [],
   "source": [
    "import torch\n",
    "from IPython.display import Image  # for displaying images\n",
    "import os \n",
    "import random\n",
    "import shutil\n",
    "from sklearn.model_selection import train_test_split\n",
    "import xml.etree.ElementTree as ET\n",
    "from xml.dom import minidom\n",
    "from tqdm import tqdm\n",
    "from PIL import Image, ImageDraw\n",
    "import numpy as np\n",
    "import matplotlib.pyplot as plt\n",
    "import pandas as pd\n",
    "\n",
    "random.seed(108)"
   ]
  },
  {
   "cell_type": "code",
   "execution_count": 108,
   "metadata": {
    "execution": {
     "iopub.execute_input": "2022-02-04T18:40:30.073757Z",
     "iopub.status.busy": "2022-02-04T18:40:30.073436Z",
     "iopub.status.idle": "2022-02-04T18:40:30.088693Z",
     "shell.execute_reply": "2022-02-04T18:40:30.087851Z",
     "shell.execute_reply.started": "2022-02-04T18:40:30.073726Z"
    }
   },
   "outputs": [],
   "source": [
    "train_df = pd.read_csv('/kaggle/input/wildfiresmokedataset/train/_annotations.csv')\n",
    "train_bbox = train_df[['class','xmin','xmax','ymin','ymax']]\n",
    "train_image_size = train_df[['width','height']].to_numpy()\n",
    "train_file = train_df[['filename']]"
   ]
  },
  {
   "cell_type": "code",
   "execution_count": 109,
   "metadata": {
    "execution": {
     "iopub.execute_input": "2022-02-04T18:40:43.139790Z",
     "iopub.status.busy": "2022-02-04T18:40:43.139501Z",
     "iopub.status.idle": "2022-02-04T18:40:43.156013Z",
     "shell.execute_reply": "2022-02-04T18:40:43.154862Z",
     "shell.execute_reply.started": "2022-02-04T18:40:43.139759Z"
    }
   },
   "outputs": [],
   "source": [
    "test_df = pd.read_csv('/kaggle/input/wildfiresmokedataset/test/_annotations.csv')\n",
    "test_bbox = test_df[['class','xmin','xmax','ymin','ymax']]\n",
    "test_image_size = test_df[['width','height']].to_numpy()\n",
    "test_file = test_df[['filename']]"
   ]
  },
  {
   "cell_type": "code",
   "execution_count": 110,
   "metadata": {
    "execution": {
     "iopub.execute_input": "2022-02-04T18:40:44.352466Z",
     "iopub.status.busy": "2022-02-04T18:40:44.351421Z",
     "iopub.status.idle": "2022-02-04T18:40:44.366223Z",
     "shell.execute_reply": "2022-02-04T18:40:44.365287Z",
     "shell.execute_reply.started": "2022-02-04T18:40:44.352426Z"
    }
   },
   "outputs": [],
   "source": [
    "valid_df = pd.read_csv('/kaggle/input/wildfiresmokedataset/valid/_annotations.csv')\n",
    "valid_bbox = valid_df[['class','xmin','xmax','ymin','ymax']]\n",
    "valid_image_size = valid_df[['width','height']].to_numpy()\n",
    "valid_file = valid_df[['filename']]"
   ]
  },
  {
   "cell_type": "code",
   "execution_count": 103,
   "metadata": {
    "execution": {
     "iopub.execute_input": "2022-02-04T18:39:14.142703Z",
     "iopub.status.busy": "2022-02-04T18:39:14.142186Z",
     "iopub.status.idle": "2022-02-04T18:39:14.160864Z",
     "shell.execute_reply": "2022-02-04T18:39:14.159391Z",
     "shell.execute_reply.started": "2022-02-04T18:39:14.142668Z"
    }
   },
   "outputs": [],
   "source": [
    "\n",
    "os.makedirs('train/')\n",
    "os.makedirs('test/')\n",
    "os.makedirs('valid/')\n"
   ]
  },
  {
   "cell_type": "code",
   "execution_count": 112,
   "metadata": {
    "execution": {
     "iopub.execute_input": "2022-02-04T18:40:54.310765Z",
     "iopub.status.busy": "2022-02-04T18:40:54.310092Z",
     "iopub.status.idle": "2022-02-04T18:40:54.321779Z",
     "shell.execute_reply": "2022-02-04T18:40:54.321108Z",
     "shell.execute_reply.started": "2022-02-04T18:40:54.310710Z"
    }
   },
   "outputs": [],
   "source": [
    "def BndBox2YoloLine(dir_,info_dict,image_size,box, classList=[]):\n",
    "    \n",
    "\n",
    "    xmin = box['xmin'].to_numpy()\n",
    "    xmax = box['xmax'].to_numpy()\n",
    "    ymin = box['ymin'].to_numpy()\n",
    "    ymax = box['ymax'].to_numpy()\n",
    "\n",
    "\n",
    "    xcen = ((xmin + xmax)) / 2 / image_size[:,0]\n",
    "    ycen = ((ymin + ymax)) / 2 / image_size[:,1]\n",
    "\n",
    "    w = ((xmax - xmin)) / image_size[:,0]\n",
    "    h = ((ymax - ymin)) / image_size[:,1]\n",
    "\n",
    "    # PR387\n",
    "    boxName = box['class']\n",
    "    if boxName not in classList:\n",
    "        classList.append(boxName)\n",
    "\n",
    "    classIndex = classList.index(boxName)\n",
    "    \n",
    "    for i in range(len(xmin)):\n",
    "        print_buffer = []\n",
    "        print_buffer.append(\"0 {:.3f} {:.3f} {:.3f} {:.3f}\".format(xcen[i], ycen[i], w[i], h[i]))\n",
    "    #print_buffer.append(\"{:.3f} \".format( xcen.tolist()))\n",
    "    # Name of the file which we have to save \n",
    "        save_file_name = os.path.join(info_dict[\"filename\"][i].replace(\"jpg\", \"txt\"))\n",
    "    \n",
    "    # Save the annotation to disk\n",
    "        print(\"\\n\".join(print_buffer), file= open(dir_+'/'+save_file_name, \"w\"))"
   ]
  },
  {
   "cell_type": "code",
   "execution_count": 113,
   "metadata": {
    "execution": {
     "iopub.execute_input": "2022-02-04T18:40:56.679963Z",
     "iopub.status.busy": "2022-02-04T18:40:56.679428Z",
     "iopub.status.idle": "2022-02-04T18:40:56.755425Z",
     "shell.execute_reply": "2022-02-04T18:40:56.754390Z",
     "shell.execute_reply.started": "2022-02-04T18:40:56.679910Z"
    }
   },
   "outputs": [],
   "source": [
    "BndBox2YoloLine('train',train_file,train_image_size,train_bbox,[])\n",
    "BndBox2YoloLine('test',test_file,test_image_size,test_bbox,[])\n",
    "BndBox2YoloLine('valid',valid_file,valid_image_size,valid_bbox,[])"
   ]
  },
  {
   "cell_type": "markdown",
   "metadata": {},
   "source": [
    "## 3. Training"
   ]
  },
  {
   "cell_type": "code",
   "execution_count": 3,
   "metadata": {},
   "outputs": [
    {
     "name": "stdout",
     "output_type": "stream",
     "text": [
      "python: can't open file '/home/studio-lab-user/sagemaker-studiolab-notebooks/train.py': [Errno 2] No such file or directory\n"
     ]
    }
   ],
   "source": [
    "!python train.py --img 640 --batch 16 --epochs 50 --data dataset.yaml --weights yolov5s.pt"
   ]
  },
  {
   "cell_type": "markdown",
   "metadata": {},
   "source": [
    "## 4. Analyzation"
   ]
  },
  {
   "cell_type": "markdown",
   "metadata": {},
   "source": [
    "### 4.1 training process"
   ]
  },
  {
   "cell_type": "markdown",
   "metadata": {},
   "source": [
    "![confusion_matrix](yolov5/runs/train/exp2/results.png)"
   ]
  },
  {
   "cell_type": "markdown",
   "metadata": {},
   "source": [
    "### 4.2 Confusion matrix"
   ]
  },
  {
   "cell_type": "markdown",
   "metadata": {},
   "source": [
    "![confusion_matrix](yolov5/runs/train/exp2/confusion_matrix.png)"
   ]
  },
  {
   "cell_type": "markdown",
   "metadata": {},
   "source": [
    "### 4.3 Confusion matrix"
   ]
  },
  {
   "cell_type": "markdown",
   "metadata": {},
   "source": [
    "![confusion_matrix](yolov5/runs/train/exp2/PR_curve.png)"
   ]
  },
  {
   "cell_type": "markdown",
   "metadata": {},
   "source": [
    "### 4.4 Batch 1: Label vs Predition"
   ]
  },
  {
   "cell_type": "markdown",
   "metadata": {},
   "source": [
    "![confusion_matrix](yolov5/runs/train/exp2/val_batch0_labels.jpg)"
   ]
  },
  {
   "cell_type": "markdown",
   "metadata": {},
   "source": [
    "![confusion_matrix](yolov5/runs/train/exp2/val_batch0_pred.jpg)"
   ]
  },
  {
   "cell_type": "markdown",
   "metadata": {},
   "source": [
    "### 4.5 Batch 2 Label vs Prediction"
   ]
  },
  {
   "cell_type": "markdown",
   "metadata": {},
   "source": [
    "![confusion_matrix](yolov5/runs/train/exp2/val_batch1_labels.jpg)"
   ]
  },
  {
   "cell_type": "markdown",
   "metadata": {},
   "source": [
    "![confusion_matrix](yolov5/runs/train/exp2/val_batch1_pred.jpg)"
   ]
  },
  {
   "cell_type": "markdown",
   "metadata": {},
   "source": [
    "### 4.6 Batch 3 Label vs Prediction"
   ]
  },
  {
   "cell_type": "markdown",
   "metadata": {
    "tags": []
   },
   "source": [
    "![confusion_matrix](yolov5/runs/train/exp2/val_batch2_labels.jpg)"
   ]
  },
  {
   "cell_type": "markdown",
   "metadata": {},
   "source": [
    "![confusion_matrix](yolov5/runs/train/exp2/val_batch2_pred.jpg)"
   ]
  },
  {
   "cell_type": "code",
   "execution_count": null,
   "metadata": {},
   "outputs": [],
   "source": []
  }
 ],
 "metadata": {
  "kernelspec": {
   "display_name": "default:Python",
   "language": "python",
   "name": "conda-env-default-py"
  },
  "language_info": {
   "codemirror_mode": {
    "name": "ipython",
    "version": 3
   },
   "file_extension": ".py",
   "mimetype": "text/x-python",
   "name": "python",
   "nbconvert_exporter": "python",
   "pygments_lexer": "ipython3",
   "version": "3.9.7"
  }
 },
 "nbformat": 4,
 "nbformat_minor": 4
}
