{
 "cells": [
  {
   "cell_type": "code",
   "execution_count": 11,
   "id": "30861ffc-94d2-4ed7-816a-0cc438ee7f48",
   "metadata": {
    "collapsed": true,
    "jupyter": {
     "outputs_hidden": true
    },
    "tags": []
   },
   "outputs": [
    {
     "name": "stdout",
     "output_type": "stream",
     "text": [
      "Requirement already satisfied: torch in /home/studio-lab-user/.conda/envs/default/lib/python3.9/site-packages (1.10.2)\n",
      "Requirement already satisfied: typing-extensions in /home/studio-lab-user/.conda/envs/default/lib/python3.9/site-packages (from torch) (4.0.1)\n",
      "Requirement already satisfied: torchvision in /home/studio-lab-user/.conda/envs/default/lib/python3.9/site-packages (0.11.3)\n",
      "Requirement already satisfied: pillow!=8.3.0,>=5.3.0 in /home/studio-lab-user/.conda/envs/default/lib/python3.9/site-packages (from torchvision) (8.4.0)\n",
      "Requirement already satisfied: numpy in /home/studio-lab-user/.conda/envs/default/lib/python3.9/site-packages (from torchvision) (1.22.2)\n",
      "Requirement already satisfied: torch==1.10.2 in /home/studio-lab-user/.conda/envs/default/lib/python3.9/site-packages (from torchvision) (1.10.2)\n",
      "Requirement already satisfied: typing-extensions in /home/studio-lab-user/.conda/envs/default/lib/python3.9/site-packages (from torch==1.10.2->torchvision) (4.0.1)\n",
      "Requirement already satisfied: pandas in /home/studio-lab-user/.conda/envs/default/lib/python3.9/site-packages (1.4.0)\n",
      "Requirement already satisfied: numpy>=1.18.5 in /home/studio-lab-user/.conda/envs/default/lib/python3.9/site-packages (from pandas) (1.22.2)\n",
      "Requirement already satisfied: python-dateutil>=2.8.1 in /home/studio-lab-user/.conda/envs/default/lib/python3.9/site-packages (from pandas) (2.8.2)\n",
      "Requirement already satisfied: pytz>=2020.1 in /home/studio-lab-user/.conda/envs/default/lib/python3.9/site-packages (from pandas) (2021.3)\n",
      "Requirement already satisfied: six>=1.5 in /home/studio-lab-user/.conda/envs/default/lib/python3.9/site-packages (from python-dateutil>=2.8.1->pandas) (1.16.0)\n",
      "Requirement already satisfied: numpy in /home/studio-lab-user/.conda/envs/default/lib/python3.9/site-packages (1.22.2)\n",
      "Requirement already satisfied: geopandas in /home/studio-lab-user/.conda/envs/default/lib/python3.9/site-packages (0.10.2)\n",
      "Requirement already satisfied: shapely>=1.6 in /home/studio-lab-user/.conda/envs/default/lib/python3.9/site-packages (from geopandas) (1.8.0)\n",
      "Requirement already satisfied: pandas>=0.25.0 in /home/studio-lab-user/.conda/envs/default/lib/python3.9/site-packages (from geopandas) (1.4.0)\n",
      "Requirement already satisfied: fiona>=1.8 in /home/studio-lab-user/.conda/envs/default/lib/python3.9/site-packages (from geopandas) (1.8.20)\n",
      "Requirement already satisfied: pyproj>=2.2.0 in /home/studio-lab-user/.conda/envs/default/lib/python3.9/site-packages (from geopandas) (3.3.0)\n",
      "Requirement already satisfied: certifi in /home/studio-lab-user/.conda/envs/default/lib/python3.9/site-packages (from fiona>=1.8->geopandas) (2021.10.8)\n",
      "Requirement already satisfied: six>=1.7 in /home/studio-lab-user/.conda/envs/default/lib/python3.9/site-packages (from fiona>=1.8->geopandas) (1.16.0)\n",
      "Requirement already satisfied: cligj>=0.5 in /home/studio-lab-user/.conda/envs/default/lib/python3.9/site-packages (from fiona>=1.8->geopandas) (0.7.2)\n",
      "Requirement already satisfied: munch in /home/studio-lab-user/.conda/envs/default/lib/python3.9/site-packages (from fiona>=1.8->geopandas) (2.5.0)\n",
      "Requirement already satisfied: attrs>=17 in /home/studio-lab-user/.conda/envs/default/lib/python3.9/site-packages (from fiona>=1.8->geopandas) (21.2.0)\n",
      "Requirement already satisfied: click-plugins>=1.0 in /home/studio-lab-user/.conda/envs/default/lib/python3.9/site-packages (from fiona>=1.8->geopandas) (1.1.1)\n",
      "Requirement already satisfied: setuptools in /home/studio-lab-user/.conda/envs/default/lib/python3.9/site-packages (from fiona>=1.8->geopandas) (59.4.0)\n",
      "Requirement already satisfied: click>=4.0 in /home/studio-lab-user/.conda/envs/default/lib/python3.9/site-packages (from fiona>=1.8->geopandas) (8.0.3)\n",
      "Requirement already satisfied: numpy>=1.18.5 in /home/studio-lab-user/.conda/envs/default/lib/python3.9/site-packages (from pandas>=0.25.0->geopandas) (1.22.2)\n",
      "Requirement already satisfied: python-dateutil>=2.8.1 in /home/studio-lab-user/.conda/envs/default/lib/python3.9/site-packages (from pandas>=0.25.0->geopandas) (2.8.2)\n",
      "Requirement already satisfied: pytz>=2020.1 in /home/studio-lab-user/.conda/envs/default/lib/python3.9/site-packages (from pandas>=0.25.0->geopandas) (2021.3)\n",
      "Requirement already satisfied: shapely in /home/studio-lab-user/.conda/envs/default/lib/python3.9/site-packages (1.8.0)\n",
      "Requirement already satisfied: matplotlib in /home/studio-lab-user/.conda/envs/default/lib/python3.9/site-packages (3.5.1)\n",
      "Requirement already satisfied: fonttools>=4.22.0 in /home/studio-lab-user/.conda/envs/default/lib/python3.9/site-packages (from matplotlib) (4.29.1)\n",
      "Requirement already satisfied: pyparsing>=2.2.1 in /home/studio-lab-user/.conda/envs/default/lib/python3.9/site-packages (from matplotlib) (3.0.6)\n",
      "Requirement already satisfied: pillow>=6.2.0 in /home/studio-lab-user/.conda/envs/default/lib/python3.9/site-packages (from matplotlib) (8.4.0)\n",
      "Requirement already satisfied: packaging>=20.0 in /home/studio-lab-user/.conda/envs/default/lib/python3.9/site-packages (from matplotlib) (21.3)\n",
      "Requirement already satisfied: cycler>=0.10 in /home/studio-lab-user/.conda/envs/default/lib/python3.9/site-packages (from matplotlib) (0.11.0)\n",
      "Requirement already satisfied: kiwisolver>=1.0.1 in /home/studio-lab-user/.conda/envs/default/lib/python3.9/site-packages (from matplotlib) (1.3.2)\n",
      "Requirement already satisfied: numpy>=1.17 in /home/studio-lab-user/.conda/envs/default/lib/python3.9/site-packages (from matplotlib) (1.22.2)\n",
      "Requirement already satisfied: python-dateutil>=2.7 in /home/studio-lab-user/.conda/envs/default/lib/python3.9/site-packages (from matplotlib) (2.8.2)\n",
      "Requirement already satisfied: six>=1.5 in /home/studio-lab-user/.conda/envs/default/lib/python3.9/site-packages (from python-dateutil>=2.7->matplotlib) (1.16.0)\n",
      "Requirement already satisfied: plotly_express in /home/studio-lab-user/.conda/envs/default/lib/python3.9/site-packages (0.4.1)\n",
      "Requirement already satisfied: patsy>=0.5 in /home/studio-lab-user/.conda/envs/default/lib/python3.9/site-packages (from plotly_express) (0.5.2)\n",
      "Requirement already satisfied: scipy>=0.18 in /home/studio-lab-user/.conda/envs/default/lib/python3.9/site-packages (from plotly_express) (1.7.3)\n",
      "Requirement already satisfied: numpy>=1.11 in /home/studio-lab-user/.conda/envs/default/lib/python3.9/site-packages (from plotly_express) (1.22.2)\n",
      "Requirement already satisfied: pandas>=0.20.0 in /home/studio-lab-user/.conda/envs/default/lib/python3.9/site-packages (from plotly_express) (1.4.0)\n",
      "Requirement already satisfied: statsmodels>=0.9.0 in /home/studio-lab-user/.conda/envs/default/lib/python3.9/site-packages (from plotly_express) (0.13.1)\n",
      "Requirement already satisfied: plotly>=4.1.0 in /home/studio-lab-user/.conda/envs/default/lib/python3.9/site-packages (from plotly_express) (5.5.0)\n",
      "Requirement already satisfied: pytz>=2020.1 in /home/studio-lab-user/.conda/envs/default/lib/python3.9/site-packages (from pandas>=0.20.0->plotly_express) (2021.3)\n",
      "Requirement already satisfied: python-dateutil>=2.8.1 in /home/studio-lab-user/.conda/envs/default/lib/python3.9/site-packages (from pandas>=0.20.0->plotly_express) (2.8.2)\n",
      "Requirement already satisfied: six in /home/studio-lab-user/.conda/envs/default/lib/python3.9/site-packages (from patsy>=0.5->plotly_express) (1.16.0)\n",
      "Requirement already satisfied: tenacity>=6.2.0 in /home/studio-lab-user/.conda/envs/default/lib/python3.9/site-packages (from plotly>=4.1.0->plotly_express) (8.0.1)\n",
      "Requirement already satisfied: sentinelhub in /home/studio-lab-user/.conda/envs/default/lib/python3.9/site-packages (3.4.3)\n",
      "Requirement already satisfied: click in /home/studio-lab-user/.conda/envs/default/lib/python3.9/site-packages (from sentinelhub) (8.0.3)\n",
      "Requirement already satisfied: pillow<=8.4.0,>=8.3.2 in /home/studio-lab-user/.conda/envs/default/lib/python3.9/site-packages (from sentinelhub) (8.4.0)\n",
      "Requirement already satisfied: boto3 in /home/studio-lab-user/.conda/envs/default/lib/python3.9/site-packages (from sentinelhub) (1.20.48)\n",
      "Requirement already satisfied: utm in /home/studio-lab-user/.conda/envs/default/lib/python3.9/site-packages (from sentinelhub) (0.7.0)\n",
      "Requirement already satisfied: python-dateutil in /home/studio-lab-user/.conda/envs/default/lib/python3.9/site-packages (from sentinelhub) (2.8.2)\n",
      "Requirement already satisfied: oauthlib in /home/studio-lab-user/.conda/envs/default/lib/python3.9/site-packages (from sentinelhub) (3.2.0)\n",
      "Requirement already satisfied: tqdm in /home/studio-lab-user/.conda/envs/default/lib/python3.9/site-packages (from sentinelhub) (4.62.3)\n",
      "Requirement already satisfied: shapely in /home/studio-lab-user/.conda/envs/default/lib/python3.9/site-packages (from sentinelhub) (1.8.0)\n",
      "Requirement already satisfied: numpy in /home/studio-lab-user/.conda/envs/default/lib/python3.9/site-packages (from sentinelhub) (1.22.2)\n",
      "Requirement already satisfied: aenum>=2.1.4 in /home/studio-lab-user/.conda/envs/default/lib/python3.9/site-packages (from sentinelhub) (3.1.8)\n",
      "Requirement already satisfied: pyproj>=2.2.0 in /home/studio-lab-user/.conda/envs/default/lib/python3.9/site-packages (from sentinelhub) (3.3.0)\n",
      "Requirement already satisfied: requests-oauthlib in /home/studio-lab-user/.conda/envs/default/lib/python3.9/site-packages (from sentinelhub) (1.3.1)\n",
      "Requirement already satisfied: wheel in /home/studio-lab-user/.conda/envs/default/lib/python3.9/site-packages (from sentinelhub) (0.37.0)\n",
      "Requirement already satisfied: botocore in /home/studio-lab-user/.conda/envs/default/lib/python3.9/site-packages (from sentinelhub) (1.23.48)\n",
      "Requirement already satisfied: tifffile in /home/studio-lab-user/.conda/envs/default/lib/python3.9/site-packages (from sentinelhub) (2022.2.2)\n",
      "Requirement already satisfied: dataclasses-json in /home/studio-lab-user/.conda/envs/default/lib/python3.9/site-packages (from sentinelhub) (0.5.6)\n",
      "Requirement already satisfied: requests>=2.5.0 in /home/studio-lab-user/.conda/envs/default/lib/python3.9/site-packages (from sentinelhub) (2.27.1)\n",
      "Requirement already satisfied: certifi in /home/studio-lab-user/.conda/envs/default/lib/python3.9/site-packages (from pyproj>=2.2.0->sentinelhub) (2021.10.8)\n",
      "Requirement already satisfied: urllib3<1.27,>=1.21.1 in /home/studio-lab-user/.conda/envs/default/lib/python3.9/site-packages (from requests>=2.5.0->sentinelhub) (1.26.8)\n",
      "Requirement already satisfied: charset-normalizer~=2.0.0 in /home/studio-lab-user/.conda/envs/default/lib/python3.9/site-packages (from requests>=2.5.0->sentinelhub) (2.0.11)\n",
      "Requirement already satisfied: idna<4,>=2.5 in /home/studio-lab-user/.conda/envs/default/lib/python3.9/site-packages (from requests>=2.5.0->sentinelhub) (3.3)\n",
      "Requirement already satisfied: s3transfer<0.6.0,>=0.5.0 in /home/studio-lab-user/.conda/envs/default/lib/python3.9/site-packages (from boto3->sentinelhub) (0.5.1)\n",
      "Requirement already satisfied: jmespath<1.0.0,>=0.7.1 in /home/studio-lab-user/.conda/envs/default/lib/python3.9/site-packages (from boto3->sentinelhub) (0.10.0)\n",
      "Requirement already satisfied: six>=1.5 in /home/studio-lab-user/.conda/envs/default/lib/python3.9/site-packages (from python-dateutil->sentinelhub) (1.16.0)\n",
      "Requirement already satisfied: typing-inspect>=0.4.0 in /home/studio-lab-user/.conda/envs/default/lib/python3.9/site-packages (from dataclasses-json->sentinelhub) (0.7.1)\n",
      "Requirement already satisfied: marshmallow<4.0.0,>=3.3.0 in /home/studio-lab-user/.conda/envs/default/lib/python3.9/site-packages (from dataclasses-json->sentinelhub) (3.14.1)\n",
      "Requirement already satisfied: marshmallow-enum<2.0.0,>=1.5.1 in /home/studio-lab-user/.conda/envs/default/lib/python3.9/site-packages (from dataclasses-json->sentinelhub) (1.5.1)\n",
      "Requirement already satisfied: typing-extensions>=3.7.4 in /home/studio-lab-user/.conda/envs/default/lib/python3.9/site-packages (from typing-inspect>=0.4.0->dataclasses-json->sentinelhub) (4.0.1)\n",
      "Requirement already satisfied: mypy-extensions>=0.3.0 in /home/studio-lab-user/.conda/envs/default/lib/python3.9/site-packages (from typing-inspect>=0.4.0->dataclasses-json->sentinelhub) (0.4.3)\n",
      "Requirement already satisfied: rasterio in /home/studio-lab-user/.conda/envs/default/lib/python3.9/site-packages (1.2.10)\n",
      "Requirement already satisfied: snuggs>=1.4.1 in /home/studio-lab-user/.conda/envs/default/lib/python3.9/site-packages (from rasterio) (1.4.7)\n",
      "Requirement already satisfied: click>=4.0 in /home/studio-lab-user/.conda/envs/default/lib/python3.9/site-packages (from rasterio) (8.0.3)\n",
      "Requirement already satisfied: numpy in /home/studio-lab-user/.conda/envs/default/lib/python3.9/site-packages (from rasterio) (1.22.2)\n",
      "Requirement already satisfied: click-plugins in /home/studio-lab-user/.conda/envs/default/lib/python3.9/site-packages (from rasterio) (1.1.1)\n",
      "Requirement already satisfied: setuptools in /home/studio-lab-user/.conda/envs/default/lib/python3.9/site-packages (from rasterio) (59.4.0)\n",
      "Requirement already satisfied: attrs in /home/studio-lab-user/.conda/envs/default/lib/python3.9/site-packages (from rasterio) (21.2.0)\n",
      "Requirement already satisfied: cligj>=0.5 in /home/studio-lab-user/.conda/envs/default/lib/python3.9/site-packages (from rasterio) (0.7.2)\n",
      "Requirement already satisfied: certifi in /home/studio-lab-user/.conda/envs/default/lib/python3.9/site-packages (from rasterio) (2021.10.8)\n",
      "Requirement already satisfied: affine in /home/studio-lab-user/.conda/envs/default/lib/python3.9/site-packages (from rasterio) (2.3.0)\n",
      "Requirement already satisfied: pyparsing>=2.1.6 in /home/studio-lab-user/.conda/envs/default/lib/python3.9/site-packages (from snuggs>=1.4.1->rasterio) (3.0.6)\n",
      "Requirement already satisfied: earthpy in /home/studio-lab-user/.conda/envs/default/lib/python3.9/site-packages (0.9.4)\n",
      "Requirement already satisfied: numpy>=1.14.0 in /home/studio-lab-user/.conda/envs/default/lib/python3.9/site-packages (from earthpy) (1.22.2)\n",
      "Requirement already satisfied: scikit-image in /home/studio-lab-user/.conda/envs/default/lib/python3.9/site-packages (from earthpy) (0.19.1)\n",
      "Requirement already satisfied: rasterio in /home/studio-lab-user/.conda/envs/default/lib/python3.9/site-packages (from earthpy) (1.2.10)\n",
      "Requirement already satisfied: geopandas in /home/studio-lab-user/.conda/envs/default/lib/python3.9/site-packages (from earthpy) (0.10.2)\n",
      "Requirement already satisfied: requests in /home/studio-lab-user/.conda/envs/default/lib/python3.9/site-packages (from earthpy) (2.27.1)\n",
      "Requirement already satisfied: matplotlib>=2.0.0 in /home/studio-lab-user/.conda/envs/default/lib/python3.9/site-packages (from earthpy) (3.5.1)\n",
      "Requirement already satisfied: pyparsing>=2.2.1 in /home/studio-lab-user/.conda/envs/default/lib/python3.9/site-packages (from matplotlib>=2.0.0->earthpy) (3.0.6)\n",
      "Requirement already satisfied: kiwisolver>=1.0.1 in /home/studio-lab-user/.conda/envs/default/lib/python3.9/site-packages (from matplotlib>=2.0.0->earthpy) (1.3.2)\n",
      "Requirement already satisfied: pillow>=6.2.0 in /home/studio-lab-user/.conda/envs/default/lib/python3.9/site-packages (from matplotlib>=2.0.0->earthpy) (8.4.0)\n",
      "Requirement already satisfied: fonttools>=4.22.0 in /home/studio-lab-user/.conda/envs/default/lib/python3.9/site-packages (from matplotlib>=2.0.0->earthpy) (4.29.1)\n",
      "Requirement already satisfied: cycler>=0.10 in /home/studio-lab-user/.conda/envs/default/lib/python3.9/site-packages (from matplotlib>=2.0.0->earthpy) (0.11.0)\n",
      "Requirement already satisfied: packaging>=20.0 in /home/studio-lab-user/.conda/envs/default/lib/python3.9/site-packages (from matplotlib>=2.0.0->earthpy) (21.3)\n",
      "Requirement already satisfied: python-dateutil>=2.7 in /home/studio-lab-user/.conda/envs/default/lib/python3.9/site-packages (from matplotlib>=2.0.0->earthpy) (2.8.2)\n",
      "Requirement already satisfied: six>=1.5 in /home/studio-lab-user/.conda/envs/default/lib/python3.9/site-packages (from python-dateutil>=2.7->matplotlib>=2.0.0->earthpy) (1.16.0)\n",
      "Requirement already satisfied: pandas>=0.25.0 in /home/studio-lab-user/.conda/envs/default/lib/python3.9/site-packages (from geopandas->earthpy) (1.4.0)\n",
      "Requirement already satisfied: fiona>=1.8 in /home/studio-lab-user/.conda/envs/default/lib/python3.9/site-packages (from geopandas->earthpy) (1.8.20)\n",
      "Requirement already satisfied: pyproj>=2.2.0 in /home/studio-lab-user/.conda/envs/default/lib/python3.9/site-packages (from geopandas->earthpy) (3.3.0)\n",
      "Requirement already satisfied: shapely>=1.6 in /home/studio-lab-user/.conda/envs/default/lib/python3.9/site-packages (from geopandas->earthpy) (1.8.0)\n",
      "Requirement already satisfied: attrs>=17 in /home/studio-lab-user/.conda/envs/default/lib/python3.9/site-packages (from fiona>=1.8->geopandas->earthpy) (21.2.0)\n",
      "Requirement already satisfied: click>=4.0 in /home/studio-lab-user/.conda/envs/default/lib/python3.9/site-packages (from fiona>=1.8->geopandas->earthpy) (8.0.3)\n",
      "Requirement already satisfied: setuptools in /home/studio-lab-user/.conda/envs/default/lib/python3.9/site-packages (from fiona>=1.8->geopandas->earthpy) (59.4.0)\n",
      "Requirement already satisfied: certifi in /home/studio-lab-user/.conda/envs/default/lib/python3.9/site-packages (from fiona>=1.8->geopandas->earthpy) (2021.10.8)\n",
      "Requirement already satisfied: click-plugins>=1.0 in /home/studio-lab-user/.conda/envs/default/lib/python3.9/site-packages (from fiona>=1.8->geopandas->earthpy) (1.1.1)\n",
      "Requirement already satisfied: munch in /home/studio-lab-user/.conda/envs/default/lib/python3.9/site-packages (from fiona>=1.8->geopandas->earthpy) (2.5.0)\n",
      "Requirement already satisfied: cligj>=0.5 in /home/studio-lab-user/.conda/envs/default/lib/python3.9/site-packages (from fiona>=1.8->geopandas->earthpy) (0.7.2)\n",
      "Requirement already satisfied: pytz>=2020.1 in /home/studio-lab-user/.conda/envs/default/lib/python3.9/site-packages (from pandas>=0.25.0->geopandas->earthpy) (2021.3)\n",
      "Requirement already satisfied: snuggs>=1.4.1 in /home/studio-lab-user/.conda/envs/default/lib/python3.9/site-packages (from rasterio->earthpy) (1.4.7)\n",
      "Requirement already satisfied: affine in /home/studio-lab-user/.conda/envs/default/lib/python3.9/site-packages (from rasterio->earthpy) (2.3.0)\n",
      "Requirement already satisfied: urllib3<1.27,>=1.21.1 in /home/studio-lab-user/.conda/envs/default/lib/python3.9/site-packages (from requests->earthpy) (1.26.8)\n",
      "Requirement already satisfied: idna<4,>=2.5 in /home/studio-lab-user/.conda/envs/default/lib/python3.9/site-packages (from requests->earthpy) (3.3)\n",
      "Requirement already satisfied: charset-normalizer~=2.0.0 in /home/studio-lab-user/.conda/envs/default/lib/python3.9/site-packages (from requests->earthpy) (2.0.11)\n",
      "Requirement already satisfied: imageio>=2.4.1 in /home/studio-lab-user/.conda/envs/default/lib/python3.9/site-packages (from scikit-image->earthpy) (2.14.1)\n",
      "Requirement already satisfied: PyWavelets>=1.1.1 in /home/studio-lab-user/.conda/envs/default/lib/python3.9/site-packages (from scikit-image->earthpy) (1.2.0)\n",
      "Requirement already satisfied: scipy>=1.4.1 in /home/studio-lab-user/.conda/envs/default/lib/python3.9/site-packages (from scikit-image->earthpy) (1.7.3)\n",
      "Requirement already satisfied: tifffile>=2019.7.26 in /home/studio-lab-user/.conda/envs/default/lib/python3.9/site-packages (from scikit-image->earthpy) (2022.2.2)\n",
      "Requirement already satisfied: networkx>=2.2 in /home/studio-lab-user/.conda/envs/default/lib/python3.9/site-packages (from scikit-image->earthpy) (2.6.3)\n"
     ]
    }
   ],
   "source": [
    "!pip install torch\n",
    "!pip install torchvision\n",
    "!pip install pandas\n",
    "!pip install numpy\n",
    "!pip install geopandas\n",
    "!pip install shapely\n",
    "!pip install matplotlib\n",
    "!pip install plotly_express\n",
    "!pip install sentinelhub\n",
    "!pip install rasterio\n",
    "!pip install earthpy"
   ]
  },
  {
   "cell_type": "code",
   "execution_count": 12,
   "id": "a546f380-90c6-4ade-86e2-e43b4f8ab9f0",
   "metadata": {},
   "outputs": [],
   "source": [
    "!pip install -qr https://raw.githubusercontent.com/ultralytics/yolov5/master/requirements.txt  # install dependencies"
   ]
  },
  {
   "cell_type": "code",
   "execution_count": 14,
   "id": "bc80846f-a08e-4567-9efe-634998b0c7af",
   "metadata": {},
   "outputs": [],
   "source": [
    "import torch\n",
    "import pandas\n",
    "import numpy\n",
    "import os"
   ]
  },
  {
   "cell_type": "code",
   "execution_count": 15,
   "id": "af883092-b284-4857-995d-ce7aab1e06dd",
   "metadata": {},
   "outputs": [
    {
     "data": {
      "text/plain": [
       "67"
      ]
     },
     "execution_count": 15,
     "metadata": {},
     "output_type": "execute_result"
    }
   ],
   "source": [
    "# read data\n",
    "train = os.open(\"./data/train\", os.O_RDONLY)\n",
    "test  = os.open(\"./data/test\", os.O_RDONLY)\n",
    "valid = os.open(\"./data/valid\", os.O_RDONLY)\n",
    "print(train, test, valid)"
   ]
  },
  {
   "cell_type": "code",
   "execution_count": null,
   "id": "3dfa55df-edf0-4d51-b90a-95c2354d4f00",
   "metadata": {},
   "outputs": [],
   "source": []
  }
 ],
 "metadata": {
  "kernelspec": {
   "display_name": "default:Python",
   "language": "python",
   "name": "conda-env-default-py"
  },
  "language_info": {
   "codemirror_mode": {
    "name": "ipython",
    "version": 3
   },
   "file_extension": ".py",
   "mimetype": "text/x-python",
   "name": "python",
   "nbconvert_exporter": "python",
   "pygments_lexer": "ipython3",
   "version": "3.9.7"
  }
 },
 "nbformat": 4,
 "nbformat_minor": 5
}
